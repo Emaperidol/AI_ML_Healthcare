{
  "nbformat": 4,
  "nbformat_minor": 0,
  "metadata": {
    "colab": {
      "provenance": [],
      "include_colab_link": true
    },
    "kernelspec": {
      "name": "python3",
      "display_name": "Python 3"
    },
    "language_info": {
      "name": "python"
    }
  },
  "cells": [
    {
      "cell_type": "markdown",
      "metadata": {
        "id": "view-in-github",
        "colab_type": "text"
      },
      "source": [
        "<a href=\"https://colab.research.google.com/github/Emaperidol/Machine-Learning-in-Healthcare-Basics/blob/main/Lecture_1_Notes_Intro_to_Numpy.ipynb\" target=\"_parent\"><img src=\"https://colab.research.google.com/assets/colab-badge.svg\" alt=\"Open In Colab\"/></a>"
      ]
    },
    {
      "cell_type": "markdown",
      "source": [
        "# Google Colab Intro\n",
        "\n",
        "YouTube short video:\n",
        "https://www.youtube.com/watch?v=inN8seMm7UI"
      ],
      "metadata": {
        "id": "IuCkD9R9bUZZ"
      }
    },
    {
      "cell_type": "markdown",
      "source": [
        "# Introduction to Python Programming"
      ],
      "metadata": {
        "id": "GCZC5E5nxgHt"
      }
    },
    {
      "cell_type": "markdown",
      "metadata": {
        "id": "GA-89ZGugadt"
      },
      "source": [
        "## Assignment and printing"
      ]
    },
    {
      "cell_type": "code",
      "metadata": {
        "id": "LuFx40TEgfPs"
      },
      "source": [
        "# Assign values to a variable\n",
        "x = 3"
      ],
      "execution_count": null,
      "outputs": []
    },
    {
      "cell_type": "code",
      "metadata": {
        "colab": {
          "base_uri": "https://localhost:8080/"
        },
        "id": "BXWekHyfgmvE",
        "outputId": "46b46c85-e1cf-4f6c-db08-92a286693956"
      },
      "source": [
        "# Print the value of x\n",
        "print(x)"
      ],
      "execution_count": null,
      "outputs": [
        {
          "output_type": "stream",
          "name": "stdout",
          "text": [
            "3\n"
          ]
        }
      ]
    },
    {
      "cell_type": "markdown",
      "metadata": {
        "id": "7qwa7DmCg-40"
      },
      "source": [
        "## Strings"
      ]
    },
    {
      "cell_type": "code",
      "metadata": {
        "id": "f9sOLPo0hJEb"
      },
      "source": [
        "# Assign a string to a variable\n",
        "s1 = 'hello'"
      ],
      "execution_count": null,
      "outputs": []
    },
    {
      "cell_type": "code",
      "metadata": {
        "colab": {
          "base_uri": "https://localhost:8080/"
        },
        "id": "INrKVFW-ht-K",
        "outputId": "68cd5b54-e252-4083-c8c2-9498379b5d85"
      },
      "source": [
        " # Return the number of characters in a string\n",
        " len(s1)"
      ],
      "execution_count": null,
      "outputs": [
        {
          "output_type": "execute_result",
          "data": {
            "text/plain": [
              "5"
            ]
          },
          "metadata": {},
          "execution_count": 24
        }
      ]
    },
    {
      "cell_type": "code",
      "source": [
        "# Return a string with the values inserted\n",
        "a = 5\n",
        "b = 2\n",
        "c = 7\n",
        "f\"{a} plus {b} is {c}\""
      ],
      "metadata": {
        "colab": {
          "base_uri": "https://localhost:8080/",
          "height": 36
        },
        "id": "LhCVp06CHCEb",
        "outputId": "fc5f0593-0402-49df-ada5-14964bc8fd0a"
      },
      "execution_count": null,
      "outputs": [
        {
          "output_type": "execute_result",
          "data": {
            "text/plain": [
              "'5 plus 2 is 7'"
            ],
            "application/vnd.google.colaboratory.intrinsic+json": {
              "type": "string"
            }
          },
          "metadata": {},
          "execution_count": 7
        }
      ]
    },
    {
      "cell_type": "code",
      "metadata": {
        "colab": {
          "base_uri": "https://localhost:8080/"
        },
        "id": "9AWCMs5-jAk6",
        "outputId": "64959540-fa8e-4d95-a3bc-c1146fa15c91"
      },
      "source": [
        "# Split the string into a list of strings by white space\n",
        "s3 = 'I like drinking tea'\n",
        "s3.split()"
      ],
      "execution_count": null,
      "outputs": [
        {
          "output_type": "execute_result",
          "data": {
            "text/plain": [
              "['I', 'like', 'drinking', 'tea']"
            ]
          },
          "metadata": {},
          "execution_count": 9
        }
      ]
    },
    {
      "cell_type": "code",
      "metadata": {
        "colab": {
          "base_uri": "https://localhost:8080/",
          "height": 36
        },
        "id": "LOA8_TgLirO_",
        "outputId": "09a18001-e4f2-4294-e9c8-a25b28ae3445"
      },
      "source": [
        "# Remove any leading (at the beginning) and trailing (at the end) space\n",
        "apple = ' apple '\n",
        "apple.strip()"
      ],
      "execution_count": null,
      "outputs": [
        {
          "output_type": "execute_result",
          "data": {
            "text/plain": [
              "'apple'"
            ],
            "application/vnd.google.colaboratory.intrinsic+json": {
              "type": "string"
            }
          },
          "metadata": {},
          "execution_count": 10
        }
      ]
    },
    {
      "cell_type": "markdown",
      "metadata": {
        "id": "4lh0RStTjWHJ"
      },
      "source": [
        "## Numeric types and math operations"
      ]
    },
    {
      "cell_type": "code",
      "metadata": {
        "colab": {
          "base_uri": "https://localhost:8080/"
        },
        "id": "6iW0dML6jeWJ",
        "outputId": "401dfff0-5f80-4243-da20-23f0e4296d77"
      },
      "source": [
        "# Convert the string \"5\" to the integer 5 and assign the result to i\n",
        "i = int('5')\n",
        "i"
      ],
      "execution_count": null,
      "outputs": [
        {
          "output_type": "execute_result",
          "data": {
            "text/plain": [
              "5"
            ]
          },
          "metadata": {},
          "execution_count": 11
        }
      ]
    },
    {
      "cell_type": "code",
      "metadata": {
        "colab": {
          "base_uri": "https://localhost:8080/"
        },
        "id": "5XKpY-i1jvCQ",
        "outputId": "6619725b-3dfa-4838-ca17-c433f0a7718b"
      },
      "source": [
        "# Convert the string \"2.5\" to the float value 2.5 and assign the result to f\n",
        "f = float('2.5')\n",
        "f"
      ],
      "execution_count": null,
      "outputs": [
        {
          "output_type": "execute_result",
          "data": {
            "text/plain": [
              "2.5"
            ]
          },
          "metadata": {},
          "execution_count": 14
        }
      ]
    },
    {
      "cell_type": "code",
      "metadata": {
        "colab": {
          "base_uri": "https://localhost:8080/"
        },
        "id": "yNnoAkdUj7RH",
        "outputId": "cec090ee-a116-4cff-f61d-2271b1951856"
      },
      "source": [
        "# Raise 3 to the power of 2\n",
        "3 ** 2"
      ],
      "execution_count": null,
      "outputs": [
        {
          "output_type": "execute_result",
          "data": {
            "text/plain": [
              "9"
            ]
          },
          "metadata": {},
          "execution_count": 15
        }
      ]
    },
    {
      "cell_type": "code",
      "metadata": {
        "colab": {
          "base_uri": "https://localhost:8080/"
        },
        "id": "7VWkL7QI-dZO",
        "outputId": "6c73350c-7ee0-4287-d044-43a51b6edc0a"
      },
      "source": [
        "# 55           ÷          9           =         6           and         1\n",
        "# dividend             divisor               quotient               remainder\n",
        "print(55 / 9) # division\n",
        "print(55 // 9) # quotient\n",
        "print(55 % 9) # remainder"
      ],
      "execution_count": null,
      "outputs": [
        {
          "output_type": "stream",
          "name": "stdout",
          "text": [
            "6.111111111111111\n",
            "6\n",
            "1\n"
          ]
        }
      ]
    },
    {
      "cell_type": "code",
      "metadata": {
        "colab": {
          "base_uri": "https://localhost:8080/"
        },
        "id": "UTeMHfXlkCdo",
        "outputId": "d21210ff-301a-4768-9c16-f72c8819a5fd"
      },
      "source": [
        "# Assign the value of x + 1 to x\n",
        "x = 5\n",
        "x += 1\n",
        "x"
      ],
      "execution_count": null,
      "outputs": [
        {
          "output_type": "execute_result",
          "data": {
            "text/plain": [
              "6"
            ]
          },
          "metadata": {},
          "execution_count": 17
        }
      ]
    },
    {
      "cell_type": "code",
      "metadata": {
        "colab": {
          "base_uri": "https://localhost:8080/"
        },
        "id": "EOkMaJOJkJTw",
        "outputId": "3ef6cd54-5408-4f5f-d285-edaf9a8b7202"
      },
      "source": [
        "# Assign the value of x - 1 to x\n",
        "x = 5\n",
        "x -= 1\n",
        "x"
      ],
      "execution_count": null,
      "outputs": [
        {
          "output_type": "execute_result",
          "data": {
            "text/plain": [
              "4"
            ]
          },
          "metadata": {},
          "execution_count": 18
        }
      ]
    },
    {
      "cell_type": "markdown",
      "metadata": {
        "id": "gh_GViD2kOrw"
      },
      "source": [
        "## Lists"
      ]
    },
    {
      "cell_type": "code",
      "metadata": {
        "colab": {
          "base_uri": "https://localhost:8080/"
        },
        "id": "w71tV6WKk7lm",
        "outputId": "6d72dc61-3315-46c1-f5fb-0a1ba05d54b0"
      },
      "source": [
        "# Assign a list containing the integers 100, 21, 88, and 3 to the variable l\n",
        "l = [100, 21, 88, 3]\n",
        "l"
      ],
      "execution_count": null,
      "outputs": [
        {
          "output_type": "execute_result",
          "data": {
            "text/plain": [
              "[100, 21, 88, 3]"
            ]
          },
          "metadata": {},
          "execution_count": 19
        }
      ]
    },
    {
      "cell_type": "code",
      "metadata": {
        "colab": {
          "base_uri": "https://localhost:8080/"
        },
        "id": "BALJ5lLMlFCt",
        "outputId": "e2f3616f-a4ef-4a9f-9fdc-04b7ebf2651b"
      },
      "source": [
        "# Create an empty list and assign the result to l\n",
        "l = list() # option 1\n",
        "l = [] # option 2\n",
        "print(l)"
      ],
      "execution_count": null,
      "outputs": [
        {
          "output_type": "stream",
          "name": "stdout",
          "text": [
            "[]\n"
          ]
        }
      ]
    },
    {
      "cell_type": "code",
      "metadata": {
        "colab": {
          "base_uri": "https://localhost:8080/"
        },
        "id": "NTkehb80lR4b",
        "outputId": "fe2dbe40-e656-4ebd-a2e0-d4cb4d72ba7a"
      },
      "source": [
        "# Return the first/last value in the list l\n",
        "l = [100, 21, 88, 3]\n",
        "print(l[0]) # first value\n",
        "print(l[3]) # last value\n",
        "print(l[-1]) # last value"
      ],
      "execution_count": null,
      "outputs": [
        {
          "output_type": "stream",
          "name": "stdout",
          "text": [
            "100\n",
            "3\n",
            "3\n"
          ]
        }
      ]
    },
    {
      "cell_type": "code",
      "metadata": {
        "colab": {
          "base_uri": "https://localhost:8080/"
        },
        "id": "8bvlvKK4ljy4",
        "outputId": "ad1548f8-7a63-470e-af86-fdcd9afcfe9f"
      },
      "source": [
        "# Return a slice of a list containing the second and third values of l\n",
        "# (excluding position 3)\n",
        "print(l[1:3])"
      ],
      "execution_count": null,
      "outputs": [
        {
          "output_type": "stream",
          "name": "stdout",
          "text": [
            "[21, 88]\n"
          ]
        }
      ]
    },
    {
      "cell_type": "code",
      "metadata": {
        "colab": {
          "base_uri": "https://localhost:8080/"
        },
        "id": "ZjZZ39l1lxgQ",
        "outputId": "b7dc4e8e-3544-45a4-96bf-123ba33e79d3"
      },
      "source": [
        "# Return the number of elements in l\n",
        "len(l)"
      ],
      "execution_count": null,
      "outputs": [
        {
          "output_type": "execute_result",
          "data": {
            "text/plain": [
              "4"
            ]
          },
          "metadata": {},
          "execution_count": 26
        }
      ]
    },
    {
      "cell_type": "code",
      "metadata": {
        "colab": {
          "base_uri": "https://localhost:8080/"
        },
        "id": "yrObEqPcl2Vm",
        "outputId": "7483b2ff-8c15-4afc-ad96-1b8e7c09c57b"
      },
      "source": [
        "# Return the sum, min, and max of element of l\n",
        "print(sum(l))\n",
        "print(min(l))\n",
        "print(max(l))"
      ],
      "execution_count": null,
      "outputs": [
        {
          "output_type": "stream",
          "name": "stdout",
          "text": [
            "212\n",
            "3\n",
            "100\n"
          ]
        }
      ]
    },
    {
      "cell_type": "code",
      "metadata": {
        "colab": {
          "base_uri": "https://localhost:8080/"
        },
        "id": "U2m5UiS1mDbl",
        "outputId": "7ecea837-3f29-44f1-c414-7e7a0da6b18c"
      },
      "source": [
        "# Append the value 16 to the end of l\n",
        "l.append(16)\n",
        "print(l)"
      ],
      "execution_count": null,
      "outputs": [
        {
          "output_type": "stream",
          "name": "stdout",
          "text": [
            "[100, 21, 88, 3, 16]\n"
          ]
        }
      ]
    },
    {
      "cell_type": "code",
      "metadata": {
        "colab": {
          "base_uri": "https://localhost:8080/",
          "height": 36
        },
        "id": "VPiGzW1hmqUT",
        "outputId": "40913948-1283-4ffa-9df1-909009dae401"
      },
      "source": [
        "# Convert the list ['A', 'B', 'C', 'D'] into the string \"A B C D\"\n",
        "# (with space in-between)\n",
        "' '.join(['A', 'B', 'C', 'D'])"
      ],
      "execution_count": null,
      "outputs": [
        {
          "output_type": "execute_result",
          "data": {
            "text/plain": [
              "'A B C D'"
            ],
            "application/vnd.google.colaboratory.intrinsic+json": {
              "type": "string"
            }
          },
          "metadata": {},
          "execution_count": 31
        }
      ]
    },
    {
      "cell_type": "code",
      "metadata": {
        "id": "CBZ96daPTt19",
        "colab": {
          "base_uri": "https://localhost:8080/"
        },
        "outputId": "e40ab7ae-fdf7-4758-e9e6-6a22be068e41"
      },
      "source": [
        "# tuple (= immutable list) and zip function\n",
        "a = ('John', 'Charles', 'Mike')\n",
        "b = (53, 29, 44)\n",
        "x = zip(a, b)\n",
        "list(x)"
      ],
      "execution_count": null,
      "outputs": [
        {
          "output_type": "execute_result",
          "data": {
            "text/plain": [
              "[('John', 53), ('Charles', 29), ('Mike', 44)]"
            ]
          },
          "metadata": {},
          "execution_count": 243
        }
      ]
    },
    {
      "cell_type": "markdown",
      "metadata": {
        "id": "tDt5oTVknT73"
      },
      "source": [
        "## Dictionaries"
      ]
    },
    {
      "cell_type": "code",
      "metadata": {
        "colab": {
          "base_uri": "https://localhost:8080/"
        },
        "id": "uw7F8inTnV6w",
        "outputId": "b7c870a4-c2d8-4397-c9ad-de10283eff40"
      },
      "source": [
        "# Create a dictionary with keys of 'CA', 'GB', and 'IN' and\n",
        "# corresponding values of 'Canada', 'Great Britain', and 'India'\n",
        "d = {'CA': 'Canada', 'GB': 'Great Britain', 'IN': 'India'}\n",
        "print(d)"
      ],
      "execution_count": null,
      "outputs": [
        {
          "output_type": "stream",
          "name": "stdout",
          "text": [
            "{'CA': 'Canada', 'GB': 'Great Britain', 'IN': 'India'}\n"
          ]
        }
      ]
    },
    {
      "cell_type": "code",
      "metadata": {
        "colab": {
          "base_uri": "https://localhost:8080/",
          "height": 36
        },
        "id": "MTpBJn97njZH",
        "outputId": "28b60334-0fe6-4869-c28a-ffa8d59f2d57"
      },
      "source": [
        "# Return the value from the dictionary d that has the key 'GB'\n",
        "d['GB']"
      ],
      "execution_count": null,
      "outputs": [
        {
          "output_type": "execute_result",
          "data": {
            "text/plain": [
              "'Great Britain'"
            ],
            "application/vnd.google.colaboratory.intrinsic+json": {
              "type": "string"
            }
          },
          "metadata": {},
          "execution_count": 35
        }
      ]
    },
    {
      "cell_type": "code",
      "metadata": {
        "colab": {
          "base_uri": "https://localhost:8080/"
        },
        "id": "6e1AUQDRoACs",
        "outputId": "695f02cb-5f14-489e-df59-5ea65e92d4da"
      },
      "source": [
        "# Return a list of the keys from d\n",
        "d.keys()"
      ],
      "execution_count": null,
      "outputs": [
        {
          "output_type": "execute_result",
          "data": {
            "text/plain": [
              "dict_keys(['CA', 'GB', 'IN'])"
            ]
          },
          "metadata": {},
          "execution_count": 41
        }
      ]
    },
    {
      "cell_type": "code",
      "metadata": {
        "colab": {
          "base_uri": "https://localhost:8080/"
        },
        "id": "Djny0yAxoGpm",
        "outputId": "bb9e03ff-55d5-4244-87ad-73981ae194e4"
      },
      "source": [
        "# Return a list of the values from d\n",
        "d.values()"
      ],
      "execution_count": null,
      "outputs": [
        {
          "output_type": "execute_result",
          "data": {
            "text/plain": [
              "dict_values(['Canada', 'Great Britain', 'India'])"
            ]
          },
          "metadata": {},
          "execution_count": 42
        }
      ]
    },
    {
      "cell_type": "code",
      "metadata": {
        "colab": {
          "base_uri": "https://localhost:8080/"
        },
        "id": "2bRKHZkmoMxD",
        "outputId": "2041cfc3-af2b-48e7-9c5a-17846057a760"
      },
      "source": [
        "# Return a list of (key, value) pairs from d\n",
        "d.items()"
      ],
      "execution_count": null,
      "outputs": [
        {
          "output_type": "execute_result",
          "data": {
            "text/plain": [
              "dict_items([('CA', 'Canada'), ('GB', 'Great Britain'), ('IN', 'India')])"
            ]
          },
          "metadata": {},
          "execution_count": 43
        }
      ]
    },
    {
      "cell_type": "markdown",
      "metadata": {
        "id": "WoixyBe3ooDC"
      },
      "source": [
        "## Modules and functions"
      ]
    },
    {
      "cell_type": "code",
      "metadata": {
        "id": "-tDv0u06oqAa"
      },
      "source": [
        "# Import the module random\n",
        "import random"
      ],
      "execution_count": null,
      "outputs": []
    },
    {
      "cell_type": "code",
      "metadata": {
        "id": "B5u4CWMBowQj"
      },
      "source": [
        "# Import the function sqrt from the module math\n",
        "from math import sqrt"
      ],
      "execution_count": null,
      "outputs": []
    },
    {
      "cell_type": "code",
      "metadata": {
        "colab": {
          "base_uri": "https://localhost:8080/"
        },
        "id": "2EgPbKWBo4mZ",
        "outputId": "68095a41-a290-49d1-e1aa-7b44b83381af"
      },
      "source": [
        "# Define a new function with two required and one optional arguments that\n",
        "# calculates and returns result\n",
        "def calculate(value_one, value_two, exponent = 1):\n",
        "  result = (value_one + value_two) ** exponent\n",
        "  return result\n",
        "print(calculate(2, 1))\n",
        "print(calculate(2, 1, 2))"
      ],
      "execution_count": null,
      "outputs": [
        {
          "output_type": "stream",
          "name": "stdout",
          "text": [
            "3\n",
            "9\n"
          ]
        }
      ]
    },
    {
      "cell_type": "code",
      "metadata": {
        "colab": {
          "base_uri": "https://localhost:8080/"
        },
        "id": "kyOAAuhopazY",
        "outputId": "07eff0c7-4c83-4687-ce2f-92d78d62e776"
      },
      "source": [
        "# A one-line simple function\n",
        "(lambda x: x ** 2)(5)"
      ],
      "execution_count": null,
      "outputs": [
        {
          "output_type": "execute_result",
          "data": {
            "text/plain": [
              "25"
            ]
          },
          "metadata": {},
          "execution_count": 52
        }
      ]
    },
    {
      "cell_type": "markdown",
      "metadata": {
        "id": "-nrekOOC5Gg-"
      },
      "source": [
        "## Boolean comparisons"
      ]
    },
    {
      "cell_type": "code",
      "metadata": {
        "colab": {
          "base_uri": "https://localhost:8080/"
        },
        "id": "whNwVcUF5JcF",
        "outputId": "a8fc52b6-fd48-4dc1-d731-806b93e485f3"
      },
      "source": [
        "# Assign x, name, l, and dic\n",
        "x = 18\n",
        "name = 'alfred'\n",
        "l = [1, 2, 5, 19, 20]\n",
        "dic = {'A': 1, 'B': 2, 'C': 3}\n",
        "\n",
        "print(x == 5) # test whether x is equal to 5\n",
        "print(x != 5) # test whether x is not equal to 5\n",
        "print(x > 5) # test whether x is greater than 5\n",
        "print(x < 5) # test whether x is less than 5\n",
        "print(x >= 5) # test whether x is greater than or equal to 5\n",
        "print(x <= 5) # test whether x is less than or equal to 5\n",
        "print(x == 5 or name == 'alfred') # test whether x is equal to 5 or name is equal to \"alfred\"\n",
        "print(x == 5 and name == 'alfred') # test whether x is equal to 5 and name is equal to \"alfred\"\n",
        "print(5 in l) # check whether the value 5 exists in the list l\n",
        "print('A' in dic) # check whether 'A' is a key in dic"
      ],
      "execution_count": null,
      "outputs": [
        {
          "output_type": "stream",
          "name": "stdout",
          "text": [
            "False\n",
            "True\n",
            "True\n",
            "False\n",
            "True\n",
            "False\n",
            "True\n",
            "False\n",
            "True\n",
            "True\n"
          ]
        }
      ]
    },
    {
      "cell_type": "markdown",
      "metadata": {
        "id": "dSEIuA6q6Sex"
      },
      "source": [
        "## If statement and loops"
      ]
    },
    {
      "cell_type": "code",
      "metadata": {
        "colab": {
          "base_uri": "https://localhost:8080/"
        },
        "id": "cNMPDrdB6WOC",
        "outputId": "22d97477-b0c7-4a96-db8d-75973c73d7d3"
      },
      "source": [
        "# Test the value of the variable x and run the code body based on the value\n",
        "x = 3\n",
        "if x > 5:\n",
        "  print(\"{} is greater than five\".format(x))\n",
        "elif x < 0:\n",
        "  print(\"{} is negative\".format(x))\n",
        "else:\n",
        "  print(\"{} is between zero and five\".format(x))"
      ],
      "execution_count": null,
      "outputs": [
        {
          "output_type": "stream",
          "name": "stdout",
          "text": [
            "3 is between zero and five\n"
          ]
        }
      ]
    },
    {
      "cell_type": "code",
      "metadata": {
        "colab": {
          "base_uri": "https://localhost:8080/"
        },
        "id": "Ufuw32jq6yFQ",
        "outputId": "24a1abaa-55c6-438b-9eb1-68507f1a7c66"
      },
      "source": [
        "# Iterate over each value in a range or list\n",
        "for value in range(10):\n",
        "  print(value)\n",
        "print('\\n')\n",
        "for item in [1, 5, -2, -7, 10]:\n",
        "  print(item)"
      ],
      "execution_count": null,
      "outputs": [
        {
          "output_type": "stream",
          "name": "stdout",
          "text": [
            "0\n",
            "1\n",
            "2\n",
            "3\n",
            "4\n",
            "5\n",
            "6\n",
            "7\n",
            "8\n",
            "9\n",
            "\n",
            "\n",
            "1\n",
            "5\n",
            "-2\n",
            "-7\n",
            "10\n"
          ]
        }
      ]
    },
    {
      "cell_type": "code",
      "metadata": {
        "colab": {
          "base_uri": "https://localhost:8080/"
        },
        "id": "HtrYqsC-Skch",
        "outputId": "4631d3b3-0768-4677-b40f-750a11597df0"
      },
      "source": [
        "# Enumerate function\n",
        "l = [44, 55, 66, 77, 88]\n",
        "for index, value in enumerate(l):\n",
        "  print(index, value)"
      ],
      "execution_count": null,
      "outputs": [
        {
          "output_type": "stream",
          "name": "stdout",
          "text": [
            "0 44\n",
            "1 55\n",
            "2 66\n",
            "3 77\n",
            "4 88\n"
          ]
        }
      ]
    },
    {
      "cell_type": "markdown",
      "metadata": {
        "id": "LnWB1eLs2WXw"
      },
      "source": [
        "## List comprehension"
      ]
    },
    {
      "cell_type": "code",
      "metadata": {
        "colab": {
          "base_uri": "https://localhost:8080/"
        },
        "outputId": "18f53d16-c51f-444f-c988-168cf5645e53",
        "id": "ap-rzA7r2WXw"
      },
      "source": [
        "# Construct a new list with selected items from the original list\n",
        "fruits = ['apple', 'banana', 'cherry', 'kiwi', 'mango']\n",
        "newlist = []\n",
        "for x in fruits:\n",
        "  if 'a' in x:\n",
        "    newlist.append(x)\n",
        "print(newlist)"
      ],
      "execution_count": null,
      "outputs": [
        {
          "output_type": "stream",
          "name": "stdout",
          "text": [
            "['apple', 'banana', 'mango']\n"
          ]
        }
      ]
    },
    {
      "cell_type": "code",
      "metadata": {
        "colab": {
          "base_uri": "https://localhost:8080/"
        },
        "outputId": "07801677-c24a-4c19-96cc-2b1ac8c3a5f5",
        "id": "qJ_uN44e2WXw"
      },
      "source": [
        "# Use list comprehension to do the above task\n",
        "# newlist = [expression for item in iterable if condition == True]\n",
        "newlist = [i for i in fruits if 'a' in i]\n",
        "print(newlist)"
      ],
      "execution_count": null,
      "outputs": [
        {
          "output_type": "stream",
          "name": "stdout",
          "text": [
            "['apple', 'banana', 'mango']\n"
          ]
        }
      ]
    },
    {
      "cell_type": "markdown",
      "metadata": {
        "id": "02Yte3vV_UGD"
      },
      "source": [
        "# Numpy Basics"
      ]
    },
    {
      "cell_type": "code",
      "metadata": {
        "id": "Y9uALb3CFlTr"
      },
      "source": [
        "# Import numpy\n",
        "import numpy as np"
      ],
      "execution_count": null,
      "outputs": []
    },
    {
      "cell_type": "markdown",
      "metadata": {
        "id": "XgxvRcRHFpFp"
      },
      "source": [
        "## Create arrays\n"
      ]
    },
    {
      "cell_type": "code",
      "source": [
        "# Create a rank-1 array (which has a single row)\n",
        "a1 = np.array([1,2,3])\n",
        "print(a1)"
      ],
      "metadata": {
        "colab": {
          "base_uri": "https://localhost:8080/"
        },
        "id": "15wwjwMzm2DA",
        "outputId": "3ef03d5a-de8c-426b-8f26-38565e396dfb"
      },
      "execution_count": null,
      "outputs": [
        {
          "output_type": "stream",
          "name": "stdout",
          "text": [
            "[1 2 3]\n"
          ]
        }
      ]
    },
    {
      "cell_type": "code",
      "metadata": {
        "colab": {
          "base_uri": "https://localhost:8080/"
        },
        "id": "KoYPJunfGR3Q",
        "outputId": "f6a22427-d103-4d45-a881-d23863e238e2"
      },
      "source": [
        "# Create a rank-2 array (which has rows and columns)\n",
        "a2 = np.array([[1,2,3],[4,5,6]])\n",
        "print(a2)"
      ],
      "execution_count": null,
      "outputs": [
        {
          "output_type": "stream",
          "name": "stdout",
          "text": [
            "[[1 2 3]\n",
            " [4 5 6]]\n"
          ]
        }
      ]
    },
    {
      "cell_type": "code",
      "metadata": {
        "colab": {
          "base_uri": "https://localhost:8080/"
        },
        "id": "gMGdmtyQGq9e",
        "outputId": "b265b1dc-e89f-4011-ce0d-fce5fffdaa65"
      },
      "source": [
        "# Create a rank-3 array (with a shape of (depth, row, column) = (2, 2, 3))\n",
        "a3 = np.array([[[1,2,3],[4,5,6]],[[7,8,9],[10,11,12]]])\n",
        "print(a3)"
      ],
      "execution_count": null,
      "outputs": [
        {
          "output_type": "stream",
          "name": "stdout",
          "text": [
            "[[[ 1  2  3]\n",
            "  [ 4  5  6]]\n",
            "\n",
            " [[ 7  8  9]\n",
            "  [10 11 12]]]\n"
          ]
        }
      ]
    },
    {
      "cell_type": "markdown",
      "metadata": {
        "id": "pIHLIwB_HZ7V"
      },
      "source": [
        "## Inspect arrays"
      ]
    },
    {
      "cell_type": "code",
      "metadata": {
        "colab": {
          "base_uri": "https://localhost:8080/"
        },
        "id": "7RDX1d4YHeQ0",
        "outputId": "4f560f43-7d42-4442-fd05-ac4eab5aa3b7"
      },
      "source": [
        "# Array shape\n",
        "print(a1.shape)\n",
        "print(a2.shape)\n",
        "print(a3.shape)"
      ],
      "execution_count": null,
      "outputs": [
        {
          "output_type": "stream",
          "name": "stdout",
          "text": [
            "(3,)\n",
            "(2, 3)\n",
            "(2, 2, 3)\n"
          ]
        }
      ]
    },
    {
      "cell_type": "code",
      "metadata": {
        "colab": {
          "base_uri": "https://localhost:8080/"
        },
        "id": "5gRK2pTBJWvp",
        "outputId": "0f8b6213-2fed-48de-e566-fbb186644063"
      },
      "source": [
        "# Data type of array elements\n",
        "print(a1.dtype)\n",
        "\n",
        "# notes:\n",
        "# Int16 -- (-32,768 to +32,767)\n",
        "# Int32 -- (-2,147,483,648 to +2,147,483,647)\n",
        "# Int64 -- (-9,223,372,036,854,775,808 to +9,223,372,036,854,775,807)"
      ],
      "execution_count": null,
      "outputs": [
        {
          "output_type": "stream",
          "name": "stdout",
          "text": [
            "int64\n"
          ]
        }
      ]
    },
    {
      "cell_type": "code",
      "metadata": {
        "colab": {
          "base_uri": "https://localhost:8080/"
        },
        "id": "8wc53FP2JlGH",
        "outputId": "7ca99533-970d-4d99-e2dd-6bde99c4ad7e"
      },
      "source": [
        "# Convert an array to a different type (int to float)\n",
        "a1.astype('float')"
      ],
      "execution_count": null,
      "outputs": [
        {
          "output_type": "execute_result",
          "data": {
            "text/plain": [
              "array([1., 2., 3.])"
            ]
          },
          "metadata": {},
          "execution_count": 7
        }
      ]
    },
    {
      "cell_type": "code",
      "metadata": {
        "colab": {
          "base_uri": "https://localhost:8080/"
        },
        "id": "tPz2mzNiJ7jn",
        "outputId": "e7b51350-2ca1-448d-e3a6-cce30e1b0dff"
      },
      "source": [
        "# Convert an array to a list\n",
        "a1.tolist()"
      ],
      "execution_count": null,
      "outputs": [
        {
          "output_type": "execute_result",
          "data": {
            "text/plain": [
              "[1, 2, 3]"
            ]
          },
          "metadata": {},
          "execution_count": 8
        }
      ]
    },
    {
      "cell_type": "markdown",
      "metadata": {
        "id": "Cmq2F98XKDcu"
      },
      "source": [
        "## Initial placeholders and sequences"
      ]
    },
    {
      "cell_type": "code",
      "metadata": {
        "colab": {
          "base_uri": "https://localhost:8080/"
        },
        "id": "piiVF-UMKHZe",
        "outputId": "ecd9483e-16fe-4cf1-d163-e86029383292"
      },
      "source": [
        "# Create an array of zeros (3 rows and 4 columns)\n",
        "np.zeros((3, 4))"
      ],
      "execution_count": null,
      "outputs": [
        {
          "output_type": "execute_result",
          "data": {
            "text/plain": [
              "array([[0., 0., 0., 0.],\n",
              "       [0., 0., 0., 0.],\n",
              "       [0., 0., 0., 0.]])"
            ]
          },
          "metadata": {},
          "execution_count": 9
        }
      ]
    },
    {
      "cell_type": "code",
      "metadata": {
        "colab": {
          "base_uri": "https://localhost:8080/"
        },
        "id": "UJ6mhbsqKdPF",
        "outputId": "4ea252eb-ac7b-43ca-d106-300ecf2100f5"
      },
      "source": [
        "# Create an array of evenly-spaced values by specifying step size (= 5)\n",
        "np.arange(10, 25, 5)"
      ],
      "execution_count": null,
      "outputs": [
        {
          "output_type": "execute_result",
          "data": {
            "text/plain": [
              "array([10, 15, 20])"
            ]
          },
          "metadata": {},
          "execution_count": 10
        }
      ]
    },
    {
      "cell_type": "code",
      "metadata": {
        "colab": {
          "base_uri": "https://localhost:8080/"
        },
        "id": "UWoRwQ9bK0Ez",
        "outputId": "6a43db6e-03c7-4de4-d982-efc61ef1370e"
      },
      "source": [
        "# create an array of evenly-spaced values by specifying number of samples (= 9)\n",
        "np.linspace(0, 2, 9)"
      ],
      "execution_count": null,
      "outputs": [
        {
          "output_type": "execute_result",
          "data": {
            "text/plain": [
              "array([0.  , 0.25, 0.5 , 0.75, 1.  , 1.25, 1.5 , 1.75, 2.  ])"
            ]
          },
          "metadata": {},
          "execution_count": 11
        }
      ]
    },
    {
      "cell_type": "markdown",
      "metadata": {
        "id": "Z3JvF3FmozLt"
      },
      "source": [
        "## Reshape arrays"
      ]
    },
    {
      "cell_type": "code",
      "metadata": {
        "colab": {
          "base_uri": "https://localhost:8080/"
        },
        "id": "goRk2bVgtJej",
        "outputId": "a6fa6226-c782-4e53-d497-cc5144b4cdb5"
      },
      "source": [
        "# Flatten a rank-2 array to a rank-1 array\n",
        "arr2 = np.array([[10, 8], [4, 2], [9, 11]])\n",
        "print(arr2)\n",
        "print('\\n')\n",
        "\n",
        "print(arr2.flatten()) # option 1\n",
        "print(arr2.ravel()) # option 2"
      ],
      "execution_count": null,
      "outputs": [
        {
          "output_type": "stream",
          "name": "stdout",
          "text": [
            "[[10  8]\n",
            " [ 4  2]\n",
            " [ 9 11]]\n",
            "\n",
            "\n",
            "[10  8  4  2  9 11]\n",
            "[10  8  4  2  9 11]\n"
          ]
        }
      ]
    },
    {
      "cell_type": "code",
      "metadata": {
        "colab": {
          "base_uri": "https://localhost:8080/"
        },
        "id": "Eh8SAGiCvsKs",
        "outputId": "4d9880ae-b8cd-4d06-a9c6-7be7f131afba"
      },
      "source": [
        "# Transpose (reserse rows and columns)\n",
        "print(arr2)\n",
        "print()\n",
        "print(arr2.T)\n",
        "print()\n",
        "print(arr2.transpose())"
      ],
      "execution_count": null,
      "outputs": [
        {
          "output_type": "stream",
          "name": "stdout",
          "text": [
            "[[10  8]\n",
            " [ 4  2]\n",
            " [ 9 11]]\n",
            "\n",
            "[[10  4  9]\n",
            " [ 8  2 11]]\n",
            "\n",
            "[[10  4  9]\n",
            " [ 8  2 11]]\n"
          ]
        }
      ]
    },
    {
      "cell_type": "code",
      "metadata": {
        "colab": {
          "base_uri": "https://localhost:8080/"
        },
        "id": "3JqBi1Vwv1kb",
        "outputId": "48e1ee71-9b5e-4e72-cd73-5eb19e8d0a89"
      },
      "source": [
        "# Reshape an array to 3 rows and 4 columns without changing data elements\n",
        "# note: reshape() does not change the shape of the original array\n",
        "arr3 = np.array([[1,2],[3,4],[5,6],[7,8],[9,10],[11,12]])\n",
        "print(arr3)\n",
        "print('\\n')\n",
        "print(arr3.reshape(3, 4))"
      ],
      "execution_count": null,
      "outputs": [
        {
          "output_type": "stream",
          "name": "stdout",
          "text": [
            "[[ 1  2]\n",
            " [ 3  4]\n",
            " [ 5  6]\n",
            " [ 7  8]\n",
            " [ 9 10]\n",
            " [11 12]]\n",
            "\n",
            "\n",
            "[[ 1  2  3  4]\n",
            " [ 5  6  7  8]\n",
            " [ 9 10 11 12]]\n"
          ]
        }
      ]
    },
    {
      "cell_type": "markdown",
      "metadata": {
        "id": "aIrx7xKqzV67"
      },
      "source": [
        "## Combine arrays"
      ]
    },
    {
      "cell_type": "code",
      "metadata": {
        "colab": {
          "base_uri": "https://localhost:8080/"
        },
        "id": "j-XUhmNRzbBn",
        "outputId": "3fc9044a-7283-4756-9fe5-c756d3c792af"
      },
      "source": [
        "# Add array 2 as rows to the end of array 1\n",
        "arr1 = np.array([[1, 2, 3], [4, 5, 6]])\n",
        "arr2 = np.array([[-1, -2, -3], [-4, -5, -6]])\n",
        "print(arr1)\n",
        "print()\n",
        "print(arr2)\n",
        "print()\n",
        "np.concatenate((arr1, arr2), axis = 0)"
      ],
      "execution_count": null,
      "outputs": [
        {
          "output_type": "stream",
          "name": "stdout",
          "text": [
            "[[1 2 3]\n",
            " [4 5 6]]\n",
            "\n",
            "[[-1 -2 -3]\n",
            " [-4 -5 -6]]\n",
            "\n"
          ]
        },
        {
          "output_type": "execute_result",
          "data": {
            "text/plain": [
              "array([[ 1,  2,  3],\n",
              "       [ 4,  5,  6],\n",
              "       [-1, -2, -3],\n",
              "       [-4, -5, -6]])"
            ]
          },
          "metadata": {},
          "execution_count": 15
        }
      ]
    },
    {
      "cell_type": "code",
      "metadata": {
        "colab": {
          "base_uri": "https://localhost:8080/"
        },
        "id": "gKOsCPb60BAB",
        "outputId": "d3a3e19b-d3c7-4c25-db4d-66085c925d70"
      },
      "source": [
        "# Add array 2 as columns to the end of array 1\n",
        "np.concatenate((arr1, arr2), axis = 1)"
      ],
      "execution_count": null,
      "outputs": [
        {
          "output_type": "execute_result",
          "data": {
            "text/plain": [
              "array([[ 1,  2,  3, -1, -2, -3],\n",
              "       [ 4,  5,  6, -4, -5, -6]])"
            ]
          },
          "metadata": {},
          "execution_count": 16
        }
      ]
    },
    {
      "cell_type": "markdown",
      "metadata": {
        "id": "nSK2YOcv2_Pi"
      },
      "source": [
        "## Index an array"
      ]
    },
    {
      "cell_type": "code",
      "metadata": {
        "colab": {
          "base_uri": "https://localhost:8080/"
        },
        "id": "_LoI5igU3D2H",
        "outputId": "4a4bd40f-9fa3-4313-f0f2-27d5c7bf783a"
      },
      "source": [
        "# Return element based on index\n",
        "x = np.arange(10)\n",
        "print(x)\n",
        "print()\n",
        "print(x[2]) # index in a rank-1 array\n",
        "print()\n",
        "\n",
        "# Change the shape of array x from (10, ) to (2, 5)\n",
        "x = x.reshape(2, 5)\n",
        "print(x)\n",
        "print()\n",
        "print(x[0]) # index in a rank-2 array\n",
        "print()\n",
        "print(x[1, 0]) # index in a rank-2 array"
      ],
      "execution_count": null,
      "outputs": [
        {
          "output_type": "stream",
          "name": "stdout",
          "text": [
            "[0 1 2 3 4 5 6 7 8 9]\n",
            "\n",
            "2\n",
            "\n",
            "[[0 1 2 3 4]\n",
            " [5 6 7 8 9]]\n",
            "\n",
            "[0 1 2 3 4]\n",
            "\n",
            "5\n"
          ]
        }
      ]
    },
    {
      "cell_type": "code",
      "metadata": {
        "colab": {
          "base_uri": "https://localhost:8080/"
        },
        "id": "uP_ZfR1z6IdH",
        "outputId": "91d16613-d83d-4233-a0df-2c58c119a39f"
      },
      "source": [
        "# Return an array with boolean values\n",
        "print(x <= 5)"
      ],
      "execution_count": null,
      "outputs": [
        {
          "output_type": "stream",
          "name": "stdout",
          "text": [
            "[[ True  True  True  True  True]\n",
            " [ True False False False False]]\n"
          ]
        }
      ]
    },
    {
      "cell_type": "code",
      "metadata": {
        "colab": {
          "base_uri": "https://localhost:8080/"
        },
        "id": "nsUKtCeJGi5F",
        "outputId": "5479d231-0a8c-4931-aca7-5252efc67824"
      },
      "source": [
        "# Mask an array\n",
        "y = np.array([1, 2, 3, 4, 5, 6, 7, -10])\n",
        "y <= 3\n",
        "print('\\n')\n",
        "print(y[y <= 3])"
      ],
      "execution_count": null,
      "outputs": [
        {
          "output_type": "stream",
          "name": "stdout",
          "text": [
            "\n",
            "\n",
            "[  1   2   3 -10]\n"
          ]
        }
      ]
    },
    {
      "cell_type": "markdown",
      "metadata": {
        "id": "slKZfsWhH9sg"
      },
      "source": [
        "## Vector math"
      ]
    },
    {
      "cell_type": "code",
      "metadata": {
        "colab": {
          "base_uri": "https://localhost:8080/"
        },
        "id": "-hAc-Sd4PTW9",
        "outputId": "8afbc93f-8473-4a7a-d88f-5c9522d82cdf"
      },
      "source": [
        "# Dot product (see definition: https://en.wikipedia.org/wiki/Dot_product)\n",
        "# do it by hand:\n",
        "# [[0*0 + 1*2 + 2*4 = 10, 0*1 + 1*3 + 2*5 = 13],\n",
        "#  [3*0 + 4*2 + 5*4 = 28, 3*1 + 4*3 + 5*5 = 40]]\n",
        "a1 = np.arange(6).reshape(2, 3)\n",
        "a2 = np.arange(6).reshape(3, 2)\n",
        "print(a1)\n",
        "print()\n",
        "print(a2)\n",
        "print()\n",
        "print(np.dot(a1, a2))"
      ],
      "execution_count": null,
      "outputs": [
        {
          "output_type": "stream",
          "name": "stdout",
          "text": [
            "[[0 1 2]\n",
            " [3 4 5]]\n",
            "\n",
            "[[0 1]\n",
            " [2 3]\n",
            " [4 5]]\n",
            "\n",
            "[[10 13]\n",
            " [28 40]]\n"
          ]
        }
      ]
    },
    {
      "cell_type": "markdown",
      "metadata": {
        "id": "-CSQbNDWMsDK"
      },
      "source": [
        "## Statistics (aggregate functions)"
      ]
    },
    {
      "cell_type": "markdown",
      "source": [
        "Read this tutorial to understand axes in numpy:\n",
        "https://www.sharpsightlabs.com/blog/numpy-axes-explained/\n",
        "\n",
        "In a nut shell, axis = 0 means \"along the 0 axis\"; axis = 1 means \"along the 1 axis\"\n",
        "\n",
        "![image.png](data:image/png;base64,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)"
      ],
      "metadata": {
        "id": "1YAwocQcy45k"
      }
    },
    {
      "cell_type": "code",
      "metadata": {
        "colab": {
          "base_uri": "https://localhost:8080/"
        },
        "id": "INsxRV9rMulq",
        "outputId": "765d2516-de74-4384-a17f-2df0c299a301"
      },
      "source": [
        "# Calculate the mean(s) of an array (same for sum, median, min, max, std, and var)\n",
        "print(x)\n",
        "print()\n",
        "print(np.mean(x)) # return the overall mean of all elements in an array\n",
        "print()\n",
        "print(np.mean(x, axis = 0)) # return mean for each column\n",
        "print()\n",
        "print(np.mean(x, axis = 1)) # return mean for each row"
      ],
      "execution_count": null,
      "outputs": [
        {
          "output_type": "stream",
          "name": "stdout",
          "text": [
            "[[0 1 2 3 4]\n",
            " [5 6 7 8 9]]\n",
            "\n",
            "4.5\n",
            "\n",
            "[2.5 3.5 4.5 5.5 6.5]\n",
            "\n",
            "[2. 7.]\n"
          ]
        }
      ]
    }
  ]
}