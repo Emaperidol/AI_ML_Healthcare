{
  "nbformat": 4,
  "nbformat_minor": 0,
  "metadata": {
    "colab": {
      "provenance": [],
      "toc_visible": true,
      "authorship_tag": "ABX9TyNyNf06U8jwCrDvOFzD8CZg",
      "include_colab_link": true
    },
    "kernelspec": {
      "name": "python3",
      "display_name": "Python 3"
    },
    "language_info": {
      "name": "python"
    }
  },
  "cells": [
    {
      "cell_type": "markdown",
      "metadata": {
        "id": "view-in-github",
        "colab_type": "text"
      },
      "source": [
        "<a href=\"https://colab.research.google.com/github/Emaperidol/Learning-Coding/blob/main/Mosleh_Assignment1.ipynb\" target=\"_parent\"><img src=\"https://colab.research.google.com/assets/colab-badge.svg\" alt=\"Open In Colab\"/></a>"
      ]
    },
    {
      "cell_type": "markdown",
      "source": [
        "Assignment **01**"
      ],
      "metadata": {
        "id": "cJk9WXOMnWiJ"
      }
    },
    {
      "cell_type": "markdown",
      "source": [
        "### 1\n",
        "Assign a=10 and b=20. Print the result for (a+b)^2/(a-b)"
      ],
      "metadata": {
        "id": "toI2tQOkpGI7"
      }
    },
    {
      "cell_type": "code",
      "source": [
        "a=10\n",
        "b=20\n",
        "F\"{(a+b)**2/(a-b)}\""
      ],
      "metadata": {
        "colab": {
          "base_uri": "https://localhost:8080/",
          "height": 35
        },
        "id": "Js57KgTmna6x",
        "outputId": "f6e4aa28-2ef9-40cc-da4f-74d55d26d31c"
      },
      "execution_count": null,
      "outputs": [
        {
          "output_type": "execute_result",
          "data": {
            "text/plain": [
              "'-90.0'"
            ],
            "application/vnd.google.colaboratory.intrinsic+json": {
              "type": "string"
            }
          },
          "metadata": {},
          "execution_count": 28
        }
      ]
    },
    {
      "cell_type": "markdown",
      "source": [
        "### 2"
      ],
      "metadata": {
        "id": "oMRI6zgupW_X"
      }
    },
    {
      "cell_type": "code",
      "source": [
        "S = \"What you are you do not see, what you see is your shadow\"\n",
        "len(S)"
      ],
      "metadata": {
        "colab": {
          "base_uri": "https://localhost:8080/"
        },
        "id": "sccYGFtc-YFM",
        "outputId": "15837b6c-9677-4778-f9a6-56608c0d60a0"
      },
      "execution_count": null,
      "outputs": [
        {
          "output_type": "execute_result",
          "data": {
            "text/plain": [
              "56"
            ]
          },
          "metadata": {},
          "execution_count": 32
        }
      ]
    },
    {
      "cell_type": "code",
      "source": [
        "S_array = S.split()\n",
        "S_array[0] == \"What\""
      ],
      "metadata": {
        "colab": {
          "base_uri": "https://localhost:8080/"
        },
        "id": "7qW0CWd3tbAH",
        "outputId": "39cb1387-0a7d-4dc8-aaeb-d9c99a47fc5b"
      },
      "execution_count": null,
      "outputs": [
        {
          "output_type": "execute_result",
          "data": {
            "text/plain": [
              "True"
            ]
          },
          "metadata": {},
          "execution_count": 6
        }
      ]
    },
    {
      "cell_type": "code",
      "source": [
        "S_array[-1] == \"shadow\""
      ],
      "metadata": {
        "colab": {
          "base_uri": "https://localhost:8080/"
        },
        "id": "hg0Wse0duDbN",
        "outputId": "4eeb0b7c-fac5-4b86-8ed7-74192a3c6258"
      },
      "execution_count": null,
      "outputs": [
        {
          "output_type": "execute_result",
          "data": {
            "text/plain": [
              "True"
            ]
          },
          "metadata": {},
          "execution_count": 4
        }
      ]
    },
    {
      "cell_type": "code",
      "source": [
        "S_array.index(\"see\")"
      ],
      "metadata": {
        "colab": {
          "base_uri": "https://localhost:8080/"
        },
        "id": "7sou3p69uRc5",
        "outputId": "357956e3-8614-45bf-fa2d-f0d9358607c6"
      },
      "execution_count": null,
      "outputs": [
        {
          "output_type": "execute_result",
          "data": {
            "text/plain": [
              "9"
            ]
          },
          "metadata": {},
          "execution_count": 7
        }
      ]
    },
    {
      "cell_type": "code",
      "source": [
        "for i, word in enumerate(S_array):\n",
        "  if word == \"you\":\n",
        "    S_array[i] = \"I\"\n",
        "  if word == \"your\":\n",
        "    S_array[i] = \"my\"\n",
        "  if word == \"are\":\n",
        "    S_array[i] = \"am\"\n",
        "\n",
        "print(S_array)"
      ],
      "metadata": {
        "colab": {
          "base_uri": "https://localhost:8080/"
        },
        "id": "dcUUNvY7Af8v",
        "outputId": "17989e2f-3beb-4c6e-a320-f5b9cadfe4e4"
      },
      "execution_count": null,
      "outputs": [
        {
          "output_type": "stream",
          "name": "stdout",
          "text": [
            "['What', 'I', 'am', 'I', 'do', 'not', 'see,', 'what', 'I', 'see', 'is', 'my', 'shadow']\n"
          ]
        }
      ]
    },
    {
      "cell_type": "code",
      "source": [
        "S_array = S.split()\n",
        "print(S_array)"
      ],
      "metadata": {
        "colab": {
          "base_uri": "https://localhost:8080/"
        },
        "id": "sDAyYmquCnqs",
        "outputId": "bdb5b6b0-1520-4858-c120-5b9c793e05b7"
      },
      "execution_count": null,
      "outputs": [
        {
          "output_type": "stream",
          "name": "stdout",
          "text": [
            "['What', 'you', 'are', 'you', 'do', 'not', 'see,', 'what', 'you', 'see', 'is', 'your', 'shadow']\n"
          ]
        }
      ]
    },
    {
      "cell_type": "code",
      "source": [
        "S_upper = S.upper()\n",
        "print(S_upper)"
      ],
      "metadata": {
        "colab": {
          "base_uri": "https://localhost:8080/"
        },
        "id": "Sgzf6jPYCysj",
        "outputId": "643f4651-8808-452c-c4c7-04e36d8eb4a7"
      },
      "execution_count": null,
      "outputs": [
        {
          "output_type": "stream",
          "name": "stdout",
          "text": [
            "WHAT YOU ARE YOU DO NOT SEE, WHAT YOU SEE IS YOUR SHADOW\n"
          ]
        }
      ]
    },
    {
      "cell_type": "code",
      "source": [
        "S_lower = S.lower()\n",
        "print(S_lower)"
      ],
      "metadata": {
        "colab": {
          "base_uri": "https://localhost:8080/"
        },
        "id": "7vM0o8gdDBtO",
        "outputId": "0cb9bfe8-7290-4f3b-9746-8ecb08347036"
      },
      "execution_count": null,
      "outputs": [
        {
          "output_type": "stream",
          "name": "stdout",
          "text": [
            "what you are you do not see, what you see is your shadow\n"
          ]
        }
      ]
    },
    {
      "cell_type": "code",
      "source": [
        "count_y = S.count(\"y\")\n",
        "print(count_y)"
      ],
      "metadata": {
        "colab": {
          "base_uri": "https://localhost:8080/"
        },
        "id": "Obz9o8mmDUDX",
        "outputId": "d96cdab8-cd96-4bbc-8b89-17a2e23e2b9c"
      },
      "execution_count": null,
      "outputs": [
        {
          "output_type": "stream",
          "name": "stdout",
          "text": [
            "4\n"
          ]
        }
      ]
    },
    {
      "cell_type": "code",
      "source": [
        "S_cleaned = S.strip()\n",
        "print(S_cleaned)"
      ],
      "metadata": {
        "colab": {
          "base_uri": "https://localhost:8080/"
        },
        "id": "U_HpEMZ1Dn80",
        "outputId": "423d7c91-97ed-4504-df57-54555f5af7b9"
      },
      "execution_count": null,
      "outputs": [
        {
          "output_type": "stream",
          "name": "stdout",
          "text": [
            "What you are you do not see, what you see is your shadow\n"
          ]
        }
      ]
    },
    {
      "cell_type": "markdown",
      "source": [
        "### 3"
      ],
      "metadata": {
        "id": "tYf_mNheD-Y5"
      }
    },
    {
      "cell_type": "code",
      "source": [
        "uno = \"-100\"\n",
        "i = -int(uno)\n",
        "print(i)"
      ],
      "metadata": {
        "colab": {
          "base_uri": "https://localhost:8080/"
        },
        "id": "cVHM0BMLD_3N",
        "outputId": "ebf4aaf5-bc1b-431f-ab94-77487990d1f0"
      },
      "execution_count": null,
      "outputs": [
        {
          "output_type": "stream",
          "name": "stdout",
          "text": [
            "100\n"
          ]
        }
      ]
    },
    {
      "cell_type": "code",
      "source": [
        "tres = \"3.25\"\n",
        "f = float(tres)\n",
        "print(f)"
      ],
      "metadata": {
        "colab": {
          "base_uri": "https://localhost:8080/"
        },
        "id": "ivy9b6-lEbQh",
        "outputId": "b6c37528-0da5-408e-fbaf-d00c1d799a60"
      },
      "execution_count": null,
      "outputs": [
        {
          "output_type": "stream",
          "name": "stdout",
          "text": [
            "3.25\n"
          ]
        }
      ]
    },
    {
      "cell_type": "markdown",
      "source": [
        "### 4"
      ],
      "metadata": {
        "id": "2n9oE9AzEvxz"
      }
    },
    {
      "cell_type": "code",
      "source": [
        "l = [-1,2,3,5,10]\n",
        "l.reverse()\n",
        "print(l)"
      ],
      "metadata": {
        "colab": {
          "base_uri": "https://localhost:8080/"
        },
        "id": "CL1k7LONEvZM",
        "outputId": "082668cb-309a-46ce-aa00-f786f6666a82"
      },
      "execution_count": null,
      "outputs": [
        {
          "output_type": "stream",
          "name": "stdout",
          "text": [
            "[10, 5, 3, 2, -1]\n"
          ]
        }
      ]
    },
    {
      "cell_type": "code",
      "source": [
        "l = [-2,4,5,9,-100]\n",
        "l_squared = [num**2 for num in l]\n",
        "print(l_squared)"
      ],
      "metadata": {
        "colab": {
          "base_uri": "https://localhost:8080/"
        },
        "id": "aenzfHBXFYNg",
        "outputId": "e9309414-a932-4095-e5c4-dd5ab7fd503f"
      },
      "execution_count": null,
      "outputs": [
        {
          "output_type": "stream",
          "name": "stdout",
          "text": [
            "[4, 16, 25, 81, 10000]\n"
          ]
        }
      ]
    },
    {
      "cell_type": "code",
      "source": [
        "l = [1,2,[-300,-100,[1000,200],400],3,-40]\n",
        "l[2][2].append(-5000)\n",
        "print(l)"
      ],
      "metadata": {
        "colab": {
          "base_uri": "https://localhost:8080/"
        },
        "id": "sU7zAbbDGDqS",
        "outputId": "f48ed647-cecb-4eeb-e0d6-fbc4d318326f"
      },
      "execution_count": null,
      "outputs": [
        {
          "output_type": "stream",
          "name": "stdout",
          "text": [
            "[1, 2, [-300, -100, [1000, 200, -5000], 400], 3, -40]\n"
          ]
        }
      ]
    },
    {
      "cell_type": "code",
      "source": [
        "l = [\"To\",\"be\",\"or\",\"not\",\"to\",\"be\"]\n",
        "l_string = \" \".join(l)\n",
        "print(l_string)"
      ],
      "metadata": {
        "colab": {
          "base_uri": "https://localhost:8080/"
        },
        "id": "-T5UXqpkGxy5",
        "outputId": "e24529bc-398c-49f3-e333-e9d1c34fdb42"
      },
      "execution_count": null,
      "outputs": [
        {
          "output_type": "stream",
          "name": "stdout",
          "text": [
            "To be or not to be\n"
          ]
        }
      ]
    },
    {
      "cell_type": "code",
      "source": [
        "number_list = [1,2,3]\n",
        "str_list = [\"one\", \"two\", \"three\"]\n",
        "zipped_list = list(zip(number_list,str_list))\n",
        "print(zipped_list)"
      ],
      "metadata": {
        "colab": {
          "base_uri": "https://localhost:8080/"
        },
        "id": "sjilxG2JHfjz",
        "outputId": "1f8c22e5-0188-45fb-e1ec-65f9f1db204c"
      },
      "execution_count": null,
      "outputs": [
        {
          "output_type": "stream",
          "name": "stdout",
          "text": [
            "[(1, 'one'), (2, 'two'), (3, 'three')]\n"
          ]
        }
      ]
    },
    {
      "cell_type": "code",
      "source": [
        "my_list = [2*n for n in range(10)]\n",
        "print(my_list)"
      ],
      "metadata": {
        "colab": {
          "base_uri": "https://localhost:8080/"
        },
        "id": "ZngD5qiRIJJC",
        "outputId": "91111fdb-d38a-4f64-ff18-f2a6d6dc693f"
      },
      "execution_count": null,
      "outputs": [
        {
          "output_type": "stream",
          "name": "stdout",
          "text": [
            "[0, 2, 4, 6, 8, 10, 12, 14, 16, 18]\n"
          ]
        }
      ]
    },
    {
      "cell_type": "markdown",
      "source": [
        "### 5"
      ],
      "metadata": {
        "id": "KLZthvK4JaLQ"
      }
    },
    {
      "cell_type": "code",
      "source": [
        "squares_dict = {i: i**2 for i in range(1, 11)}\n",
        "print(squares_dict)"
      ],
      "metadata": {
        "colab": {
          "base_uri": "https://localhost:8080/"
        },
        "id": "hmPbIdLqIuDV",
        "outputId": "5e265397-6f7e-4091-8304-63030e4779db"
      },
      "execution_count": null,
      "outputs": [
        {
          "output_type": "stream",
          "name": "stdout",
          "text": [
            "{1: 1, 2: 4, 3: 9, 4: 16, 5: 25, 6: 36, 7: 49, 8: 64, 9: 81, 10: 100}\n"
          ]
        }
      ]
    },
    {
      "cell_type": "code",
      "source": [
        "keys = ['One', 'Two', 'Three']\n",
        "values = [1, 2, 3]\n",
        "my_dict = dict(zip(keys, values))\n",
        "print(my_dict)"
      ],
      "metadata": {
        "colab": {
          "base_uri": "https://localhost:8080/"
        },
        "id": "MGDlIalPJlzL",
        "outputId": "bc96a09c-e9ef-4823-b40c-678855b3441a"
      },
      "execution_count": null,
      "outputs": [
        {
          "output_type": "stream",
          "name": "stdout",
          "text": [
            "{'One': 1, 'Two': 2, 'Three': 3}\n"
          ]
        }
      ]
    },
    {
      "cell_type": "markdown",
      "source": [
        "### 6"
      ],
      "metadata": {
        "id": "sbMK9xzuJwmg"
      }
    },
    {
      "cell_type": "code",
      "source": [
        "def sum_nums(my_list):\n",
        "    return sum(my_list)\n",
        "\n",
        "my_list = [1,1,2,3,5,8]\n",
        "sum_nums(my_list)"
      ],
      "metadata": {
        "colab": {
          "base_uri": "https://localhost:8080/"
        },
        "id": "30rViGRIJyEc",
        "outputId": "c417080a-eb23-45e4-e503-87db5bd51a77"
      },
      "execution_count": null,
      "outputs": [
        {
          "output_type": "execute_result",
          "data": {
            "text/plain": [
              "20"
            ]
          },
          "metadata": {},
          "execution_count": 51
        }
      ]
    },
    {
      "cell_type": "markdown",
      "source": [
        "### 7"
      ],
      "metadata": {
        "id": "8snpk7bLKB-a"
      }
    },
    {
      "cell_type": "code",
      "source": [
        "def count_case(S):\n",
        "    upper_count = sum(1 for char in S if char.isupper())\n",
        "    lower_count = sum(1 for char in S if char.islower())\n",
        "    print(f\"Number of upper case charactes: {upper_count}\")\n",
        "    print(f\"Number of lower case charactes: {lower_count}\")\n",
        "\n",
        "S = \"To sleep or not to sleep\"\n",
        "count_case(S)"
      ],
      "metadata": {
        "colab": {
          "base_uri": "https://localhost:8080/"
        },
        "id": "CgW2l0EKJ-gO",
        "outputId": "c78c4600-1d42-4eb0-c60f-fb172061e82f"
      },
      "execution_count": null,
      "outputs": [
        {
          "output_type": "stream",
          "name": "stdout",
          "text": [
            "Number of upper case charactes: 1\n",
            "Number of lower case charactes: 18\n"
          ]
        }
      ]
    },
    {
      "cell_type": "markdown",
      "source": [
        "### 8"
      ],
      "metadata": {
        "id": "8DUKLStTK_A0"
      }
    },
    {
      "cell_type": "code",
      "source": [
        "grade = int(input(\"Enter your score: \"))\n",
        "if grade >= 60:\n",
        "    print('Congratulations! You have passed the course.')\n",
        "else:\n",
        "    print('Sorry, you did not pass the course.')"
      ],
      "metadata": {
        "colab": {
          "base_uri": "https://localhost:8080/"
        },
        "id": "bXpkxlqPKo31",
        "outputId": "f6588c39-5100-46da-c064-c7b1524187d2"
      },
      "execution_count": null,
      "outputs": [
        {
          "output_type": "stream",
          "name": "stdout",
          "text": [
            "Enter your score: 34\n",
            "Sorry, you did not pass the course.\n"
          ]
        }
      ]
    },
    {
      "cell_type": "markdown",
      "source": [
        "### 9"
      ],
      "metadata": {
        "id": "wmx2mP8sLZ0V"
      }
    },
    {
      "cell_type": "code",
      "source": [
        "for i in range(100, 3001):\n",
        "    if i % 11 == 0 and i % 7 == 0:\n",
        "        print(i)"
      ],
      "metadata": {
        "colab": {
          "base_uri": "https://localhost:8080/"
        },
        "id": "O-u5j0TdLa62",
        "outputId": "8b9bf928-2b24-4be1-a2a7-5d8cb3647c80"
      },
      "execution_count": null,
      "outputs": [
        {
          "output_type": "stream",
          "name": "stdout",
          "text": [
            "154\n",
            "231\n",
            "308\n",
            "385\n",
            "462\n",
            "539\n",
            "616\n",
            "693\n",
            "770\n",
            "847\n",
            "924\n",
            "1001\n",
            "1078\n",
            "1155\n",
            "1232\n",
            "1309\n",
            "1386\n",
            "1463\n",
            "1540\n",
            "1617\n",
            "1694\n",
            "1771\n",
            "1848\n",
            "1925\n",
            "2002\n",
            "2079\n",
            "2156\n",
            "2233\n",
            "2310\n",
            "2387\n",
            "2464\n",
            "2541\n",
            "2618\n",
            "2695\n",
            "2772\n",
            "2849\n",
            "2926\n"
          ]
        }
      ]
    },
    {
      "cell_type": "markdown",
      "source": [
        "### 10"
      ],
      "metadata": {
        "id": "UL22E01NMFe4"
      }
    },
    {
      "cell_type": "code",
      "source": [
        "def fruit_namer(lst):\n",
        "    new_lst = [fruit for fruit in lst if fruit != \"\"]\n",
        "    return new_lst\n",
        "\n",
        "l = [\"apple\", \"banana\", \"\", \"grape\"]\n",
        "fruit_namer(l)"
      ],
      "metadata": {
        "colab": {
          "base_uri": "https://localhost:8080/"
        },
        "id": "USmdISb7MCwZ",
        "outputId": "79668366-c14c-4f0f-cbfd-9246e880d0d0"
      },
      "execution_count": null,
      "outputs": [
        {
          "output_type": "execute_result",
          "data": {
            "text/plain": [
              "['apple', 'banana', 'grape']"
            ]
          },
          "metadata": {},
          "execution_count": 56
        }
      ]
    },
    {
      "cell_type": "markdown",
      "source": [
        "### 11"
      ],
      "metadata": {
        "id": "UUl5McS-MpV5"
      }
    },
    {
      "cell_type": "code",
      "source": [
        "import numpy as np\n",
        "vector = np.zeros(10)\n",
        "print(vector)"
      ],
      "metadata": {
        "colab": {
          "base_uri": "https://localhost:8080/"
        },
        "id": "h5rSA4N1MqeX",
        "outputId": "a355a3a1-8f10-4125-fa38-53c872bc5902"
      },
      "execution_count": null,
      "outputs": [
        {
          "output_type": "stream",
          "name": "stdout",
          "text": [
            "[0. 0. 0. 0. 0. 0. 0. 0. 0. 0.]\n"
          ]
        }
      ]
    },
    {
      "cell_type": "markdown",
      "source": [
        "### 12"
      ],
      "metadata": {
        "id": "iuAg0jaYNA61"
      }
    },
    {
      "cell_type": "code",
      "source": [
        "vector = np.arange(5, 36)\n",
        "print(vector)"
      ],
      "metadata": {
        "colab": {
          "base_uri": "https://localhost:8080/"
        },
        "id": "RLBNuadONCJR",
        "outputId": "dddf4146-4f9d-4cb6-d7be-2a6f1347806e"
      },
      "execution_count": null,
      "outputs": [
        {
          "output_type": "stream",
          "name": "stdout",
          "text": [
            "[ 5  6  7  8  9 10 11 12 13 14 15 16 17 18 19 20 21 22 23 24 25 26 27 28\n",
            " 29 30 31 32 33 34 35]\n"
          ]
        }
      ]
    },
    {
      "cell_type": "markdown",
      "source": [
        "### 13"
      ],
      "metadata": {
        "id": "VM-yS8ItNPiQ"
      }
    },
    {
      "cell_type": "code",
      "source": [
        "array = np.arange(1, 10).reshape(3, 3)\n",
        "print(array)"
      ],
      "metadata": {
        "colab": {
          "base_uri": "https://localhost:8080/"
        },
        "id": "c5r4iyJVNDEl",
        "outputId": "f964ea71-0dcf-4659-bf4a-05e2c1ee4221"
      },
      "execution_count": null,
      "outputs": [
        {
          "output_type": "stream",
          "name": "stdout",
          "text": [
            "[[1 2 3]\n",
            " [4 5 6]\n",
            " [7 8 9]]\n"
          ]
        }
      ]
    },
    {
      "cell_type": "markdown",
      "source": [
        "### 14"
      ],
      "metadata": {
        "id": "vmQM3mbPNYns"
      }
    },
    {
      "cell_type": "code",
      "source": [
        "array = np.random.uniform(0, 1, (10, 10))\n",
        "print(array)\n",
        "min_val, max_val = array.min(), array.max()\n",
        "print(f\"Min val: {min_val}; Max val: {max_val}\")\n"
      ],
      "metadata": {
        "colab": {
          "base_uri": "https://localhost:8080/"
        },
        "id": "nFtaprLfNZnn",
        "outputId": "b0715cfc-a3e7-46cb-a54c-5d6337cf2310"
      },
      "execution_count": null,
      "outputs": [
        {
          "output_type": "stream",
          "name": "stdout",
          "text": [
            "[[0.26720614 0.86396024 0.04351376 0.66220024 0.39820447 0.57361767\n",
            "  0.76982745 0.2103566  0.02481343 0.86208144]\n",
            " [0.9172867  0.29754484 0.22276487 0.61028082 0.52410061 0.25509748\n",
            "  0.28198818 0.73711223 0.19575405 0.37043566]\n",
            " [0.51711132 0.98975429 0.85638059 0.44267117 0.87066458 0.88281928\n",
            "  0.81587478 0.49231974 0.34160792 0.46053365]\n",
            " [0.02674375 0.42416042 0.12051707 0.66610507 0.36936358 0.7059764\n",
            "  0.3367747  0.51482474 0.28647476 0.29083171]\n",
            " [0.84325754 0.44571535 0.88797515 0.02542464 0.99322911 0.34105746\n",
            "  0.89730373 0.94092981 0.95220701 0.24960461]\n",
            " [0.65703339 0.37347833 0.15899904 0.51923957 0.84522125 0.72330572\n",
            "  0.17309257 0.47320671 0.93345079 0.77330665]\n",
            " [0.07524835 0.45804831 0.56916466 0.34294809 0.60003237 0.50185639\n",
            "  0.67096536 0.32306609 0.54165453 0.00461775]\n",
            " [0.6129341  0.14299009 0.33412907 0.53791256 0.68207861 0.00313923\n",
            "  0.0567396  0.20105161 0.55642953 0.89289942]\n",
            " [0.83717673 0.51125928 0.89035393 0.55007158 0.64631112 0.42298606\n",
            "  0.67755317 0.1452689  0.36164881 0.99014796]\n",
            " [0.0073005  0.99910263 0.8316921  0.90412148 0.19712343 0.96579899\n",
            "  0.83332827 0.10516679 0.00531155 0.67374704]]\n",
            "Min val: 0.0031392309781423933; Max val: 0.999102629972692\n"
          ]
        }
      ]
    },
    {
      "cell_type": "markdown",
      "source": [
        "### 15"
      ],
      "metadata": {
        "id": "MpdbRRWGN02h"
      }
    },
    {
      "cell_type": "code",
      "source": [
        "print(0 * np.nan)\n",
        "print(np.nan == np.nan)\n",
        "print(np.inf > np.nan)\n",
        "print(np.nan - np.nan)"
      ],
      "metadata": {
        "colab": {
          "base_uri": "https://localhost:8080/"
        },
        "id": "XG3HN90lN12-",
        "outputId": "7da3312d-8068-4f62-d80c-1e30c8d88000"
      },
      "execution_count": null,
      "outputs": [
        {
          "output_type": "stream",
          "name": "stdout",
          "text": [
            "nan\n",
            "False\n",
            "False\n",
            "nan\n"
          ]
        }
      ]
    },
    {
      "cell_type": "markdown",
      "source": [
        "### 16"
      ],
      "metadata": {
        "id": "Lge3DJ5iOJ7f"
      }
    },
    {
      "cell_type": "code",
      "source": [
        "array1 = np.random.uniform(0,10,(5,3))\n",
        "array2 = np.random.uniform(0,10,(3,3))\n",
        "result = np.dot(array1,array2)\n",
        "print(result)"
      ],
      "metadata": {
        "colab": {
          "base_uri": "https://localhost:8080/"
        },
        "id": "hGKCN18SN2bS",
        "outputId": "6017622a-f01a-40ad-8fe8-0f7963351674"
      },
      "execution_count": null,
      "outputs": [
        {
          "output_type": "stream",
          "name": "stdout",
          "text": [
            "[[ 46.02720166  52.0058571   90.10598227]\n",
            " [ 56.52652535  60.34415964 108.61659412]\n",
            " [ 57.79520831  57.39665598 113.47886481]\n",
            " [ 34.21218039  60.35187671  70.21887572]\n",
            " [ 20.97004625  24.69357156  43.61091304]]\n"
          ]
        }
      ]
    },
    {
      "cell_type": "markdown",
      "source": [
        "### 17"
      ],
      "metadata": {
        "id": "f5V_NplROqUO"
      }
    },
    {
      "cell_type": "code",
      "source": [
        "my_array = np.array([[-40,-20,100], [12,-5,-3], [5,99,-105]])\n",
        "new_column = np.array([[10, 10, 10]])\n",
        "my_array = np.delete(my_array, 1, 1)\n",
        "my_array = np.insert(my_array, 1, new_column, 1)\n",
        "print(my_array)"
      ],
      "metadata": {
        "colab": {
          "base_uri": "https://localhost:8080/"
        },
        "id": "D5YMPvxaOYqW",
        "outputId": "bf5dad5a-5d52-4ebc-f8b3-651cd6589e7c"
      },
      "execution_count": null,
      "outputs": [
        {
          "output_type": "stream",
          "name": "stdout",
          "text": [
            "[[ -40   10  100]\n",
            " [  12   10   -3]\n",
            " [   5   10 -105]]\n"
          ]
        }
      ]
    },
    {
      "cell_type": "markdown",
      "source": [
        "### 18"
      ],
      "metadata": {
        "id": "wobawVUtPIUX"
      }
    },
    {
      "cell_type": "code",
      "source": [
        "my_array = np.zeros((8, 8))\n",
        "print(my_array)\n",
        "my_array[:, [0, -1]] = 1\n",
        "my_array[[0, -1], :] = 1\n",
        "print(my_array)"
      ],
      "metadata": {
        "colab": {
          "base_uri": "https://localhost:8080/"
        },
        "id": "ZAD4RwJ_QY1G",
        "outputId": "2f33087e-0697-471c-c8f9-14af8fd00c27"
      },
      "execution_count": null,
      "outputs": [
        {
          "output_type": "stream",
          "name": "stdout",
          "text": [
            "[[0. 0. 0. 0. 0. 0. 0. 0.]\n",
            " [0. 0. 0. 0. 0. 0. 0. 0.]\n",
            " [0. 0. 0. 0. 0. 0. 0. 0.]\n",
            " [0. 0. 0. 0. 0. 0. 0. 0.]\n",
            " [0. 0. 0. 0. 0. 0. 0. 0.]\n",
            " [0. 0. 0. 0. 0. 0. 0. 0.]\n",
            " [0. 0. 0. 0. 0. 0. 0. 0.]\n",
            " [0. 0. 0. 0. 0. 0. 0. 0.]]\n",
            "[[1. 1. 1. 1. 1. 1. 1. 1.]\n",
            " [1. 0. 0. 0. 0. 0. 0. 1.]\n",
            " [1. 0. 0. 0. 0. 0. 0. 1.]\n",
            " [1. 0. 0. 0. 0. 0. 0. 1.]\n",
            " [1. 0. 0. 0. 0. 0. 0. 1.]\n",
            " [1. 0. 0. 0. 0. 0. 0. 1.]\n",
            " [1. 0. 0. 0. 0. 0. 0. 1.]\n",
            " [1. 1. 1. 1. 1. 1. 1. 1.]]\n"
          ]
        }
      ]
    },
    {
      "cell_type": "markdown",
      "source": [
        "### 19"
      ],
      "metadata": {
        "id": "JLa7dpK_QqPH"
      }
    },
    {
      "cell_type": "code",
      "source": [
        "x = np.array([1, -1, 2, 5, 8, 4, 10, 12, 3])\n",
        "diffy = np.diff(x)\n",
        "print(diffy)"
      ],
      "metadata": {
        "colab": {
          "base_uri": "https://localhost:8080/"
        },
        "id": "7SKslPQmQrc8",
        "outputId": "b906e757-afb3-4584-bda2-74992f1d3463"
      },
      "execution_count": null,
      "outputs": [
        {
          "output_type": "stream",
          "name": "stdout",
          "text": [
            "[-2  3  3  3 -4  6  2 -9]\n"
          ]
        }
      ]
    },
    {
      "cell_type": "markdown",
      "source": [
        "### 20"
      ],
      "metadata": {
        "id": "CEZ4GjZMRBYt"
      }
    },
    {
      "cell_type": "code",
      "source": [
        "angles = np.arange(0, 190, 10)\n",
        "print(angles)"
      ],
      "metadata": {
        "colab": {
          "base_uri": "https://localhost:8080/"
        },
        "id": "Hmi38QtHRFmh",
        "outputId": "af72dcfe-f623-4269-9140-172e31a51b01"
      },
      "execution_count": null,
      "outputs": [
        {
          "output_type": "stream",
          "name": "stdout",
          "text": [
            "[  0  10  20  30  40  50  60  70  80  90 100 110 120 130 140 150 160 170\n",
            " 180]\n"
          ]
        }
      ]
    }
  ]
}